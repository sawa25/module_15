{
 "cells": [
  {
   "cell_type": "markdown",
   "metadata": {},
   "source": [
    "# Учебный проект 15. Анализ временных рядов."
   ]
  },
  {
   "cell_type": "markdown",
   "metadata": {},
   "source": [
    "файл с проектом загрузить невозможно из-за ограничений размера.\n",
    "архив тоже не принимается платформой.\n",
    "\n",
    "выложен на гитхаб\n",
    "https://github.com/sawa25/module_15\n",
    "\n",
    "смотреть: decomp_train.ipynb\n",
    "(в ридми пояснено)\n",
    "\n",
    "промежуточные датасеты не выложены из-за размера, но все манипуляции выполнены с оригинальным датасетом с платформы.\n"
   ]
  }
 ],
 "metadata": {
  "kernelspec": {
   "display_name": "Python 3.8.13 ('myenv38')",
   "language": "python",
   "name": "python3"
  },
  "language_info": {
   "name": "python",
   "version": "3.8.13"
  },
  "orig_nbformat": 4,
  "vscode": {
   "interpreter": {
    "hash": "db793eebb44bddcf5be18505866f7e4e4bfcef48dc3ef3789dd793242fa71c73"
   }
  }
 },
 "nbformat": 4,
 "nbformat_minor": 2
}
